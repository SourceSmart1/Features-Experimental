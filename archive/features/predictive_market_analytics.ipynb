{
 "cells": [
  {
   "cell_type": "code",
   "execution_count": 8,
   "id": "14606846-cdd2-4817-9cac-746ad330a923",
   "metadata": {},
   "outputs": [],
   "source": [
    "import requests\n",
    "import pandas as pd\n",
    "import seaborn as sns\n",
    "import matplotlib.pyplot as plt\n",
    "from datetime import datetime"
   ]
  },
  {
   "cell_type": "code",
   "execution_count": 13,
   "id": "7730756c-ff20-4cef-b4b5-a49476efac24",
   "metadata": {},
   "outputs": [],
   "source": [
    "# Define API details\n",
    "API_KEY = 'dt7fLajC3nxTk/ZI23QViA==sCDKRqYIJ3q4yjuP'\n",
    "commodity_name = 'aluminum'\n",
    "historical_url = f'https://api.api-ninjas.com/v1/commoditypricehistorical?symbol={commodity_name}&period=1h&start=1728677095&end=1729677095'\n",
    "current_price_url = f'https://api.api-ninjas.com/v1/commodityprice?name={commodity_name}'"
   ]
  },
  {
   "cell_type": "code",
   "execution_count": 14,
   "id": "55e26b8b-185b-4c64-8bbf-741b7891d3a4",
   "metadata": {},
   "outputs": [],
   "source": [
    "\n",
    "response = requests.get(historical_url, headers={'X-Api-Key': API_KEY})"
   ]
  },
  {
   "cell_type": "code",
   "execution_count": 15,
   "id": "b6401bf5-17c4-4231-bc4e-ce371510f1c4",
   "metadata": {},
   "outputs": [
    {
     "name": "stdout",
     "output_type": "stream",
     "text": [
      "Error: 400 {\"error\": \"This API endpoint is only available to premium subscribers.\"}\n"
     ]
    }
   ],
   "source": [
    "if response.status_code == requests.codes.ok:\n",
    "    historical_data = response.json()\n",
    "\n",
    "    # Convert historical data to DataFrame\n",
    "    data = pd.DataFrame(historical_data)\n",
    "\n",
    "    # Convert Unix time to human-readable datetime\n",
    "    data['time'] = pd.to_datetime(data['time'], unit='s')\n",
    "\n",
    "    # Plot historical data using seaborn\n",
    "    plt.figure(figsize=(12, 6))\n",
    "    sns.lineplot(x='time', y='close', data=data)\n",
    "    plt.title(f'{commodity_name.capitalize()} Historical Close Prices')\n",
    "    plt.xlabel('Time')\n",
    "    plt.ylabel('Close Price')\n",
    "    plt.xticks(rotation=45)\n",
    "    plt.tight_layout()\n",
    "    plt.show()\n",
    "else:\n",
    "    print(\"Error:\", response.status_code, response.text)"
   ]
  },
  {
   "cell_type": "code",
   "execution_count": 16,
   "id": "35a5824c-935c-4706-b9b1-610c71c401bb",
   "metadata": {},
   "outputs": [
    {
     "name": "stdout",
     "output_type": "stream",
     "text": [
      "Current Price of Aluminum: 2470.75\n"
     ]
    }
   ],
   "source": [
    "# Fetch current price\n",
    "def fetch_current_price():\n",
    "    response = requests.get(current_price_url, headers={'X-Api-Key': API_KEY})\n",
    "    if response.status_code == requests.codes.ok:\n",
    "        current_price_data = response.json()\n",
    "        print(f\"Current Price of {commodity_name.capitalize()}: {current_price_data['price']}\")\n",
    "    else:\n",
    "        print(\"Error fetching current price:\", response.status_code, response.text)\n",
    "\n",
    "fetch_current_price()\n"
   ]
  },
  {
   "cell_type": "code",
   "execution_count": null,
   "id": "a304379d-e63a-4a5c-aa41-88ea511111a6",
   "metadata": {},
   "outputs": [],
   "source": []
  }
 ],
 "metadata": {
  "kernelspec": {
   "display_name": "Python 3 (ipykernel)",
   "language": "python",
   "name": "python3"
  },
  "language_info": {
   "codemirror_mode": {
    "name": "ipython",
    "version": 3
   },
   "file_extension": ".py",
   "mimetype": "text/x-python",
   "name": "python",
   "nbconvert_exporter": "python",
   "pygments_lexer": "ipython3",
   "version": "3.10.0"
  }
 },
 "nbformat": 4,
 "nbformat_minor": 5
}
